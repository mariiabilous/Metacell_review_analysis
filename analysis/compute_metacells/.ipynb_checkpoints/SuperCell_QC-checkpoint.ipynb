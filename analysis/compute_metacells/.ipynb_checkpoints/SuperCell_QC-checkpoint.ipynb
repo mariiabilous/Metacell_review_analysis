{
 "cells": [
  {
   "cell_type": "markdown",
   "id": "4c12e8c3",
   "metadata": {},
   "source": [
    "# QC of metacells built with SuperCell\n",
    "SuperCell ran in R"
   ]
  },
  {
   "cell_type": "markdown",
   "id": "b6320840",
   "metadata": {},
   "source": []
  },
  {
   "cell_type": "markdown",
   "id": "b4ae7326",
   "metadata": {},
   "source": [
    "## Imports"
   ]
  },
  {
   "cell_type": "code",
   "execution_count": 2,
   "id": "92049dd2",
   "metadata": {},
   "outputs": [],
   "source": [
    "import numpy as np\n",
    "import pandas as pd\n",
    "import scanpy as sc\n",
    "\n",
    "import SEACells\n",
    "import os\n",
    "\n",
    "import matplotlib\n",
    "import matplotlib.pyplot as plt\n",
    "import seaborn as sns\n",
    "\n",
    "\n",
    "# Some plotting aesthetics\n",
    "%matplotlib inline\n",
    "\n",
    "sns.set_style('ticks')\n",
    "matplotlib.rcParams['figure.figsize'] = [4, 4]\n",
    "matplotlib.rcParams['figure.dpi'] = 100"
   ]
  },
  {
   "cell_type": "code",
   "execution_count": 3,
   "id": "91e64e49",
   "metadata": {},
   "outputs": [],
   "source": [
    "import sys\n",
    "# caution: path[0] is reserved for script path (or '' in REPL)\n",
    "sys.path.append('../../Py/') # make a MC_metrics.py script to stote metric functions\n",
    "import mc_QC"
   ]
  },
  {
   "cell_type": "markdown",
   "id": "c19688cb",
   "metadata": {},
   "source": [
    "## Parameter\n",
    "Requested graining level"
   ]
  },
  {
   "cell_type": "code",
   "execution_count": 133,
   "id": "8ba58863",
   "metadata": {},
   "outputs": [],
   "source": [
    "I = 2\n",
    "gamma = [10, 20, 30, 50, 75, 100][I] # graining level\n",
    "\n",
    "proj_name = [\"cell_lines\", \"3k_pbmc\"][1]\n",
    "\n",
    "annotation_label = {'cell_lines':'cell_line',\n",
    "                   '3k_pbmc':'louvain'}[proj_name]\n",
    "\n",
    "MC_tool = \"SuperCell\""
   ]
  },
  {
   "cell_type": "code",
   "execution_count": null,
   "id": "0aa86b07",
   "metadata": {},
   "outputs": [],
   "source": []
  },
  {
   "cell_type": "markdown",
   "id": "661c5190",
   "metadata": {},
   "source": [
    "## Load data"
   ]
  },
  {
   "cell_type": "code",
   "execution_count": 134,
   "id": "770647ab",
   "metadata": {},
   "outputs": [],
   "source": [
    "# Load data pre-filtered data\n",
    "\n",
    "data_folder = os.path.join(\"../../data/\", proj_name)\n",
    "ad = sc.read(os.path.join(data_folder, \"anndata_filtered.h5ad\"))\n",
    "\n"
   ]
  },
  {
   "cell_type": "code",
   "execution_count": 135,
   "id": "585f5754",
   "metadata": {},
   "outputs": [],
   "source": [
    "membership = pd.read_csv(os.path.join(data_folder, \"output\", f\"supercell_gamma_{gamma}_membership.csv\"), \n",
    "                        index_col=0, header=0, names=[\"membership\"])\n",
    "\n",
    "membership\n"
   ]
  },
  {
   "cell_type": "markdown",
   "id": "c9b158d4",
   "metadata": {},
   "source": [
    "## Data processing \n",
    "In contrast to [Metacell-2](), SEACells build metacells based on processed data and takes as an input dimensionally reduced data (i.e., PCA for scRNA-seq data). Thus, we first compute PCA for our data usign the same set of genes used in the main [tutorial]()"
   ]
  },
  {
   "cell_type": "code",
   "execution_count": 136,
   "id": "18c71551",
   "metadata": {},
   "outputs": [],
   "source": [
    "# Save count as a separate layer\n",
    "ad.layers['counts'] = ad.X\n",
    "\n",
    "# Copy the counts to \".raw\" attribute of the anndata since it is necessary for downstream analysis\n",
    "# This step should be performed after filtering \n",
    "raw_ad = sc.AnnData(ad.layers['counts'])\n",
    "raw_ad.obs_names, raw_ad.var_names = ad.obs_names, ad.var_names\n",
    "ad.raw = raw_ad"
   ]
  },
  {
   "cell_type": "code",
   "execution_count": 137,
   "id": "59b7e5b8",
   "metadata": {},
   "outputs": [],
   "source": [
    "# Normalize cells, log transform and compute highly variable genes\n",
    "sc.pp.normalize_per_cell(ad)\n",
    "sc.pp.log1p(ad)\n",
    "sc.pp.highly_variable_genes(ad, n_top_genes=1000)\n"
   ]
  },
  {
   "cell_type": "code",
   "execution_count": 138,
   "id": "0e769b84",
   "metadata": {},
   "outputs": [],
   "source": [
    "# Compute principal components - \n",
    "# Here we use 10 components to be consistent with out main tutorial, but fill free to explore other number of principal components to use \n",
    "\n",
    "n_comp    = 10\n",
    "sc.tl.pca(ad, n_comps=n_comp, use_highly_variable=True)\n",
    "\n",
    "# Compute UMAP for visualization \n",
    "sc.pp.neighbors(ad, n_neighbors=10, n_pcs=n_comp)\n",
    "sc.tl.umap(ad)"
   ]
  },
  {
   "cell_type": "markdown",
   "id": "d6deaa1b",
   "metadata": {},
   "source": [
    "## Loading metacells from SuperCell membership"
   ]
  },
  {
   "cell_type": "code",
   "execution_count": 139,
   "id": "791d1c05",
   "metadata": {},
   "outputs": [],
   "source": [
    "ad.obs = ad.obs.join(membership)\n",
    "\n",
    "ad.obs['SEACell'] = ad.obs['membership']\n",
    "ad.obs"
   ]
  },
  {
   "cell_type": "code",
   "execution_count": 140,
   "id": "50d99abf",
   "metadata": {},
   "outputs": [],
   "source": [
    "SEACell_ad = SEACells.core.summarize_by_SEACell(ad, SEACells_label='membership', summarize_layer='raw')\n"
   ]
  },
  {
   "cell_type": "code",
   "execution_count": 141,
   "id": "02f0c158",
   "metadata": {},
   "outputs": [],
   "source": [
    "SEACells.plot.plot_2D(ad, key='X_umap', colour_metacells=True)"
   ]
  },
  {
   "cell_type": "code",
   "execution_count": 142,
   "id": "223d78c2",
   "metadata": {},
   "outputs": [],
   "source": [
    "## Save single-cell metadata (i.e., `ad.obs` dataframe) in the seacell adata object\n",
    "SEACell_ad.uns = ad.uns.copy()\n",
    "SEACell_ad.uns['sc.obs'] = ad.obs.copy()\n",
    "\n",
    "SEACell_ad.var['feature_gene'] = ad.var['highly_variable'].astype(int)\n",
    "SEACell_ad.obs['membership'] =  [int(i) for i in SEACell_ad.obs.index]\n",
    "SEACell_ad.obs['gamma'] = gamma\n",
    "SEACell_ad.obs['gamma_obtained'] = round(ad.shape[0]/SEACell_ad.shape[0])\n",
    "SEACell_ad.obs['MC_tool'] = MC_tool\n",
    "\n",
    "\n",
    "SEACell_ad.obs"
   ]
  },
  {
   "cell_type": "code",
   "execution_count": 143,
   "id": "ea846ef6",
   "metadata": {},
   "outputs": [],
   "source": [
    "SEACell_ad.uns['sc.obs']"
   ]
  },
  {
   "cell_type": "markdown",
   "id": "a5af9f7c",
   "metadata": {},
   "source": [
    "### Metacell quality metrics "
   ]
  },
  {
   "cell_type": "code",
   "execution_count": 144,
   "id": "ba0714e8",
   "metadata": {},
   "outputs": [],
   "source": [
    "mc_size_dist = ad.obs.membership.value_counts()\n",
    "mc_size = pd.DataFrame(mc_size_dist).rename(columns={'membership':'size'})\n",
    "mc_size['membership'] = mc_size.index"
   ]
  },
  {
   "cell_type": "code",
   "execution_count": 145,
   "id": "1b2ece47",
   "metadata": {},
   "outputs": [],
   "source": [
    "SEACell_ad.obs = pd.merge(SEACell_ad.obs, mc_size, on=['membership'])\n",
    "\n",
    "SEACell_ad.obs"
   ]
  },
  {
   "cell_type": "code",
   "execution_count": 146,
   "id": "635656b2",
   "metadata": {},
   "outputs": [],
   "source": [
    "import importlib\n",
    "importlib.reload(mc_QC)\n",
    "\n",
    "MC_purity = mc_QC.purity(ad, annotation_label, MC_label = 'membership')\n",
    "print(MC_purity)\n",
    "MC_purity.index = SEACell_ad.obs.index\n",
    "print(MC_purity)\n",
    "\n",
    "\n",
    "SEACell_ad.obs = SEACell_ad.obs.join(MC_purity) #pd.merge(metacells.obs, MC_purity, left_index=True, right_index=True)\n"
   ]
  },
  {
   "cell_type": "code",
   "execution_count": 147,
   "id": "96647649",
   "metadata": {},
   "outputs": [],
   "source": [
    "SEACell_ad.obs = SEACell_ad.obs.iloc[:,:7]\n",
    "SEACell_ad.obs\n",
    "#n_comp"
   ]
  },
  {
   "cell_type": "code",
   "execution_count": 148,
   "id": "5add3206",
   "metadata": {},
   "outputs": [],
   "source": [
    "SEACell_ad.obs['size'].value_counts()\n"
   ]
  },
  {
   "cell_type": "code",
   "execution_count": 149,
   "id": "3cc77684",
   "metadata": {},
   "outputs": [],
   "source": [
    "import importlib\n",
    "importlib.reload(mc_QC)\n",
    "MC_label = 'membership'\n",
    "\n",
    "compactness_PCA = mc_QC.compactness(ad, 'X_pca', MC_label = MC_label, DO_DC = False, name = 'Compactness_PCA', n_comp=n_comp)['Compactness_PCA']\n",
    "compactness_DC  = mc_QC.compactness(ad, 'X_pca', MC_label = MC_label, DO_DC = True, name = 'Compactness_DC', n_comp=n_comp)['Compactness_DC']\n",
    "\n",
    "SEACell_ad.obs = SEACell_ad.obs.join(compactness_PCA, on = MC_label)\n",
    "SEACell_ad.obs = SEACell_ad.obs.join(compactness_DC, on = MC_label)\n",
    "\n",
    "separation_PCA = mc_QC.separation(ad, 'X_pca', MC_label = MC_label, DO_DC = False, name = 'Separation_PCA', n_comp=n_comp)['Separation_PCA']\n",
    "separation_DC  = mc_QC.separation(ad, 'X_pca', MC_label = MC_label, DO_DC = True, name = 'Separation_DC', n_comp=n_comp)['Separation_DC']\n",
    "\n",
    "SEACell_ad.obs = SEACell_ad.obs.join(separation_PCA, on = MC_label)\n",
    "SEACell_ad.obs = SEACell_ad.obs.join(separation_DC, on = MC_label)\n",
    "\n",
    "SEACell_ad.obs\n"
   ]
  },
  {
   "cell_type": "code",
   "execution_count": 150,
   "id": "871fd4b2",
   "metadata": {},
   "outputs": [],
   "source": [
    "# compute extra PC to evaluate performance of compactness and separation outside the n_comp used for MC construction\n",
    "sc.tl.pca(ad, n_comps=50, use_highly_variable=True)\n",
    "ad.obsm['X_pca'].shape"
   ]
  },
  {
   "cell_type": "markdown",
   "id": "1d24f145",
   "metadata": {},
   "source": [
    "### Compute *compactness* for a range of latent space components "
   ]
  },
  {
   "cell_type": "code",
   "execution_count": 151,
   "id": "f02fbcc7",
   "metadata": {},
   "outputs": [],
   "source": [
    "QC_compactness = pd.DataFrame()\n",
    "\n",
    "# Compactness\n",
    "\n",
    "for n_comp_i in range(2, 31, 2):\n",
    "    print(n_comp_i)\n",
    "    \n",
    "    compactness_PCA_i = mc_QC.compactness(ad, 'X_pca', n_comp = n_comp_i, DO_DC = False, MC_label = MC_label)\n",
    "    compactness_DC_i  = mc_QC.compactness(ad, 'X_pca', n_comp = n_comp_i, DO_DC = True, MC_label = MC_label)\n",
    "    \n",
    "    QC_compactness = pd.concat([QC_compactness, compactness_PCA_i, compactness_DC_i], ignore_index=True)\n",
    "QC_compactness\n"
   ]
  },
  {
   "cell_type": "code",
   "execution_count": 152,
   "id": "9d683675",
   "metadata": {},
   "outputs": [],
   "source": [
    "\n",
    "plt.figure(figsize=(4,4))\n",
    "sns.boxplot(data=QC_compactness[QC_compactness.low_dim_embedding == 'DC'], y='compactness', x = 'n_comp', showfliers = False)\n",
    "plt.yscale('log')\n",
    "plt.title('Compactness on DC')\n",
    "sns.despine()\n",
    "plt.show()\n",
    "plt.close()\n",
    "\n",
    "plt.figure(figsize=(4,4))\n",
    "sns.boxplot(data=QC_compactness[QC_compactness.low_dim_embedding == 'X_pca'], y='compactness', x = 'n_comp')\n",
    "#plt.yscale('log')\n",
    "plt.title('Compactness on PCA')\n",
    "sns.despine()\n",
    "plt.show()\n",
    "plt.close()\n",
    "\n"
   ]
  },
  {
   "cell_type": "markdown",
   "id": "976e3faf",
   "metadata": {},
   "source": [
    "### Compute *separation* for a range of latent space components "
   ]
  },
  {
   "cell_type": "code",
   "execution_count": 153,
   "id": "d96676ed",
   "metadata": {},
   "outputs": [],
   "source": [
    "importlib.reload(mc_QC)\n",
    "QC_separation = pd.DataFrame()\n",
    "\n",
    "#Separation\n",
    "\n",
    "for n_comp_i in range(2, 31, 2):\n",
    "    print(n_comp_i)\n",
    "    sep_PCA_i = mc_QC.separation(ad, 'X_pca', n_comp = n_comp_i, DO_DC = False, MC_label = MC_label)\n",
    "    sep_DC_i = mc_QC.separation(ad, 'X_pca', n_comp = n_comp_i, DO_DC = True, MC_label = MC_label)\n",
    "    \n",
    "    \n",
    "    QC_separation = pd.concat([QC_separation, sep_PCA_i, sep_DC_i], ignore_index=True)\n",
    "QC_separation"
   ]
  },
  {
   "cell_type": "code",
   "execution_count": 154,
   "id": "0abb4b1b",
   "metadata": {},
   "outputs": [],
   "source": [
    "plt.figure(figsize=(4,4))\n",
    "sns.boxplot(data=QC_separation[QC_separation.low_dim_embedding == 'DC'], y='separation', x = 'n_comp', showfliers = False)\n",
    "plt.yscale('log')\n",
    "plt.title('Separation on DC')\n",
    "sns.despine()\n",
    "plt.show()\n",
    "plt.close()\n",
    "\n",
    "plt.figure(figsize=(4,4))\n",
    "sns.boxplot(data=QC_separation[QC_separation.low_dim_embedding == 'X_pca'], y='separation', x = 'n_comp', showfliers = False)\n",
    "#plt.yscale('log')\n",
    "plt.title('Separation on PCA')\n",
    "sns.despine()\n",
    "plt.show()\n",
    "plt.close()"
   ]
  },
  {
   "cell_type": "code",
   "execution_count": 155,
   "id": "dbf072b9",
   "metadata": {},
   "outputs": [],
   "source": [
    "QC = QC_compactness.merge(QC_separation, on=['low_dim_embedding', 'n_comp', 'membership'])\n",
    "\n",
    "QC = SEACell_ad.obs.iloc[:,:7].merge(QC, on = 'membership')\n",
    "\n",
    "QC"
   ]
  },
  {
   "cell_type": "code",
   "execution_count": 156,
   "id": "0be2bd7a",
   "metadata": {},
   "outputs": [],
   "source": [
    "import scipy\n",
    "df = QC[(QC['low_dim_embedding'] == 'DC') & (QC['n_comp'] == 10)]\n",
    "#df['size'] = mc_size.cell_line\n",
    "df = df[(df['separation']<100) & (df['compactness']<.2)]\n",
    "r = df.compactness.corr(df.separation)\n",
    "\n",
    "#sns.scatterplot(x=\"compactness\", y=\"separation\", data=df)\n",
    "sns.lmplot(x=\"compactness\", y=\"separation\", data=df)\n",
    "\n",
    "#add correlation coefficient to plot\n",
    "plt.text(.3,0, 'r = ' + str(round(r, 4)), fontsize=20)\n"
   ]
  },
  {
   "cell_type": "code",
   "execution_count": 157,
   "id": "efd2dccf",
   "metadata": {},
   "outputs": [],
   "source": [
    "importlib.reload(mc_QC)\n",
    "ad.obs['membership_str'] = [str(i-1) for i in ad.obs.membership]\n",
    "mc_INV = mc_QC.mc_inner_normalized_var(ad, MC_label='membership_str')\n",
    "mc_INV.index = [int(i) for i in mc_INV.index]"
   ]
  },
  {
   "cell_type": "code",
   "execution_count": 158,
   "id": "65d2f9d8",
   "metadata": {},
   "outputs": [],
   "source": [
    "SEACell_ad.obs\n"
   ]
  },
  {
   "cell_type": "code",
   "execution_count": 159,
   "id": "ba3fc98c",
   "metadata": {},
   "outputs": [],
   "source": [
    "SEACell_ad.obs = SEACell_ad.obs.iloc[:,:11]\n",
    "SEACell_ad.obs\n"
   ]
  },
  {
   "cell_type": "code",
   "execution_count": 160,
   "id": "c527826d",
   "metadata": {},
   "outputs": [],
   "source": [
    "mc_INV_val = mc_INV.quantile([0.05, 0.5, 0.95], axis=1, numeric_only=True)\n",
    "mc_INV_val = pd.DataFrame(mc_INV_val.transpose()).set_axis(['INV_5', 'INV_50','INV_95'], axis=1, inplace=False)\n",
    "#mc_INV_val = pd.DataFrame.from_dict(mc_INV_val, orient='index', columns=['INV_95'])\n",
    "SEACell_ad.obs = SEACell_ad.obs.join(mc_INV_val)"
   ]
  },
  {
   "cell_type": "code",
   "execution_count": 161,
   "id": "0a8c62ba",
   "metadata": {},
   "outputs": [],
   "source": [
    "SEACell_ad.obs"
   ]
  },
  {
   "cell_type": "code",
   "execution_count": 162,
   "id": "1a4463ab",
   "metadata": {},
   "outputs": [],
   "source": [
    "SEACell_ad.uns['QC_separation_compactness_PC_range'] = QC"
   ]
  },
  {
   "cell_type": "markdown",
   "id": "562959f3",
   "metadata": {},
   "source": [
    "## Saving data for the downstream analysis"
   ]
  },
  {
   "cell_type": "code",
   "execution_count": 163,
   "id": "78f9e090",
   "metadata": {},
   "outputs": [],
   "source": [
    "meth_name = 'supercell'\n",
    "SEACell_ad.write(os.path.join(data_folder, 'output', f'{meth_name}_gamma_{gamma}.h5ad'))\n",
    "SEACell_ad.obs.to_csv(os.path.join(data_folder, 'output', f'{meth_name}_gamma_{gamma}_metacell_obs.csv'))\n",
    "ad.obs.to_csv(os.path.join(data_folder, 'output', f'{meth_name}_gamma_{gamma}_singlecell_obs.csv'))\n",
    "QC.to_csv(os.path.join(data_folder, 'output', f'{meth_name}_gamma_{gamma}_QC.csv'))\n"
   ]
  },
  {
   "cell_type": "code",
   "execution_count": 164,
   "id": "e222f289",
   "metadata": {},
   "outputs": [],
   "source": [
    "gamma"
   ]
  },
  {
   "cell_type": "code",
   "execution_count": null,
   "id": "6f1d5637",
   "metadata": {},
   "outputs": [],
   "source": []
  }
 ],
 "metadata": {
  "kernelspec": {
   "display_name": "Python 3 (ipykernel)",
   "language": "python",
   "name": "python3"
  },
  "language_info": {
   "codemirror_mode": {
    "name": "ipython",
    "version": 3
   },
   "file_extension": ".py",
   "mimetype": "text/x-python",
   "name": "python",
   "nbconvert_exporter": "python",
   "pygments_lexer": "ipython3",
   "version": "3.9.13"
  }
 },
 "nbformat": 4,
 "nbformat_minor": 5
}
